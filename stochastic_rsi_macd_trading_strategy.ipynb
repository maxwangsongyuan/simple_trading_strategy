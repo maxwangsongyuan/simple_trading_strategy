{
  "nbformat": 4,
  "nbformat_minor": 0,
  "metadata": {
    "colab": {
      "name": "stochastic_rsi_macd_trading_strategy.ipynb",
      "provenance": [],
      "collapsed_sections": [],
      "authorship_tag": "ABX9TyNRzpOVBTCo9m86hlYROoPK",
      "include_colab_link": true
    },
    "kernelspec": {
      "name": "python3",
      "display_name": "Python 3"
    },
    "language_info": {
      "name": "python"
    }
  },
  "cells": [
    {
      "cell_type": "markdown",
      "metadata": {
        "id": "view-in-github",
        "colab_type": "text"
      },
      "source": [
        "<a href=\"https://colab.research.google.com/github/wangsongyuan98/simple_trading_strategy/blob/main/stochastic_rsi_macd_trading_strategy.ipynb\" target=\"_parent\"><img src=\"https://colab.research.google.com/assets/colab-badge.svg\" alt=\"Open In Colab\"/></a>"
      ]
    },
    {
      "cell_type": "code",
      "metadata": {
        "id": "QxpU2mVqE7OT"
      },
      "source": [
        "!pip install yfinance &> /dev/null"
      ],
      "execution_count": 99,
      "outputs": []
    },
    {
      "cell_type": "code",
      "metadata": {
        "id": "VxET0OGjFORp"
      },
      "source": [
        "!pip install ta &> /dev/null"
      ],
      "execution_count": 100,
      "outputs": []
    },
    {
      "cell_type": "code",
      "metadata": {
        "id": "6kLIth8YEyWL"
      },
      "source": [
        "import yfinance as yf\n",
        "import numpy as np\n",
        "import ta\n",
        "import pandas as pd"
      ],
      "execution_count": 101,
      "outputs": []
    },
    {
      "cell_type": "code",
      "metadata": {
        "colab": {
          "base_uri": "https://localhost:8080/"
        },
        "id": "JCbpVVM7FDGR",
        "outputId": "617347f8-360f-4eb6-a9db-d3364f9af751"
      },
      "source": [
        "df = yf.download('BTC-USD', start='2021-08-20', interval='30m')"
      ],
      "execution_count": 129,
      "outputs": [
        {
          "output_type": "stream",
          "name": "stdout",
          "text": [
            "\r[*********************100%***********************]  1 of 1 completed\n"
          ]
        }
      ]
    },
    {
      "cell_type": "code",
      "metadata": {
        "colab": {
          "base_uri": "https://localhost:8080/"
        },
        "id": "zdlXh58XHGVv",
        "outputId": "057ab257-029b-4e1f-de3b-7ef402a89abc"
      },
      "source": [
        "df.shape"
      ],
      "execution_count": 130,
      "outputs": [
        {
          "output_type": "execute_result",
          "data": {
            "text/plain": [
              "(2727, 6)"
            ]
          },
          "metadata": {},
          "execution_count": 130
        }
      ]
    },
    {
      "cell_type": "markdown",
      "metadata": {
        "id": "k3t2iUePIXoQ"
      },
      "source": [
        "The Formula for the Stochastic Oscillator Is\n",
        "\\begin{aligned} &\\text{\\%K}=\\left(\\frac{\\text{C} - \\text{L14}}{\\text{H14} - \\text{L14}}\\right)\\times100\\\\ &\\textbf{where:}\\\\ &\\text{C = The most recent closing price}\\\\ &\\text{L14 = The lowest price traded of the 14 previous}\\\\ &\\text{trading sessions}\\\\ &\\text{H14 = The highest price traded during the same}\\\\ &\\text{14-day period}\\\\ &\\text{\\%K = The current value of the stochastic indicator}\\\\ \\end{aligned} \n",
        "​\n",
        "  \n",
        "%K=( \n",
        "H14−L14\n",
        "C−L14\n",
        "​\n",
        " )×100\n",
        "where:\n",
        "C = The most recent closing price\n",
        "L14 = The lowest price traded of the 14 previous\n",
        "trading sessions\n",
        "H14 = The highest price traded during the same\n",
        "14-day period\n",
        "%K = The current value of the stochastic indicator\n",
        "​\n"
      ]
    },
    {
      "cell_type": "markdown",
      "metadata": {
        "id": "BCe1YXLpItnM"
      },
      "source": [
        "k line"
      ]
    },
    {
      "cell_type": "code",
      "metadata": {
        "id": "dfgrtz5xHHS-"
      },
      "source": [
        "df['%K'] = ta.momentum.stoch(df.High, df.Low, df.Close, window=14, smooth_window=3) #Stochastic Oscillator https://www.investopedia.com/terms/s/stochasticoscillator.asp"
      ],
      "execution_count": 131,
      "outputs": []
    },
    {
      "cell_type": "markdown",
      "metadata": {
        "id": "SoH-trCgIu47"
      },
      "source": [
        "d line, stochastic sold"
      ]
    },
    {
      "cell_type": "code",
      "metadata": {
        "id": "PSR2Jj3VHiQN"
      },
      "source": [
        "df['%D'] = df['%K'].rolling(3).mean()"
      ],
      "execution_count": 132,
      "outputs": []
    },
    {
      "cell_type": "code",
      "metadata": {
        "id": "33N9JmFtI6yI"
      },
      "source": [
        "df['rsi'] = ta.momentum.rsi(df.Close, window = 14)"
      ],
      "execution_count": 133,
      "outputs": []
    },
    {
      "cell_type": "code",
      "metadata": {
        "id": "9u57M3DXJKJD"
      },
      "source": [
        "df['macd'] = ta.trend.macd_diff(df.Close)"
      ],
      "execution_count": 134,
      "outputs": []
    },
    {
      "cell_type": "code",
      "metadata": {
        "id": "TP8ZRyalJPyA"
      },
      "source": [
        "df.dropna(inplace= True)"
      ],
      "execution_count": 135,
      "outputs": []
    },
    {
      "cell_type": "markdown",
      "metadata": {
        "id": "YgMOa3d8J62V"
      },
      "source": [
        "create trigger signal"
      ]
    },
    {
      "cell_type": "code",
      "metadata": {
        "id": "hO_sspSSKgPl"
      },
      "source": [
        "def get_triggers(df, lags, buy=True): #lags = number of time steps we want to go back\n",
        "  dfx = pd.DataFrame()\n",
        "  for i in range(1,lags+1):\n",
        "    if buy:\n",
        "      mask = (df['%K'].shift(i) < 20) & (df['%D'].shift(i) < 20) \n",
        "    else: #sold\n",
        "      mask = (df['%K'].shift(i) > 80) & (df['%D'].shift(i) > 80) \n",
        "\n",
        "    dfx = dfx.append(mask, ignore_index=True)\n",
        "  return dfx.sum(axis=0)"
      ],
      "execution_count": 136,
      "outputs": []
    },
    {
      "cell_type": "code",
      "metadata": {
        "colab": {
          "base_uri": "https://localhost:8080/"
        },
        "id": "YgcVzyZFLZTt",
        "outputId": "0249ab17-ea44-4ae4-8ad7-49a0badce4a7"
      },
      "source": [
        "get_triggers(df,4)"
      ],
      "execution_count": 137,
      "outputs": [
        {
          "output_type": "execute_result",
          "data": {
            "text/plain": [
              "2021-08-20 17:30:00+01:00    0.0\n",
              "2021-08-20 18:00:00+01:00    0.0\n",
              "2021-08-20 18:30:00+01:00    0.0\n",
              "2021-08-20 19:00:00+01:00    0.0\n",
              "2021-08-20 19:30:00+01:00    0.0\n",
              "                            ... \n",
              "2021-10-15 18:00:00+01:00    0.0\n",
              "2021-10-15 18:30:00+01:00    0.0\n",
              "2021-10-15 19:00:00+01:00    0.0\n",
              "2021-10-15 19:30:00+01:00    0.0\n",
              "2021-10-16 00:00:00+01:00    0.0\n",
              "Length: 2694, dtype: float64"
            ]
          },
          "metadata": {},
          "execution_count": 137
        }
      ]
    },
    {
      "cell_type": "code",
      "metadata": {
        "colab": {
          "base_uri": "https://localhost:8080/"
        },
        "id": "PzZO4YNhLly5",
        "outputId": "e700d696-4efa-4004-89ec-44974abc0f6c"
      },
      "source": [
        "np.where(get_triggers(df,4),1,0)"
      ],
      "execution_count": 138,
      "outputs": [
        {
          "output_type": "execute_result",
          "data": {
            "text/plain": [
              "array([0, 0, 0, ..., 0, 0, 0])"
            ]
          },
          "metadata": {},
          "execution_count": 138
        }
      ]
    },
    {
      "cell_type": "code",
      "metadata": {
        "id": "4DGq2IMBKcMw"
      },
      "source": [
        "df['buy_tr'] = np.where(get_triggers(df,4),1,0) #get trigger = 1, if no trigger = 0"
      ],
      "execution_count": 139,
      "outputs": []
    },
    {
      "cell_type": "code",
      "metadata": {
        "id": "JTptvzrhLzw_"
      },
      "source": [
        "df['sell_tr'] = np.where(get_triggers(df,4, False),1,0) #get trigger = 1, if no trigger = 0"
      ],
      "execution_count": 140,
      "outputs": []
    },
    {
      "cell_type": "code",
      "metadata": {
        "id": "ikQgotdJL65W"
      },
      "source": [
        "df['buy'] = np.where(df['buy_tr'] & (df['%K'].between(20,80) & df['%D'].between(20,80)) & (df.rsi > 50) & (df.macd > 0), 1, 0)"
      ],
      "execution_count": 141,
      "outputs": []
    },
    {
      "cell_type": "code",
      "metadata": {
        "id": "leu7Q2LzMgjS"
      },
      "source": [
        "df['sell'] = np.where(df['sell_tr'] & (df['%K'].between(20,80) & df['%D'].between(20,80)) & (df.rsi <= 50) & (df.macd <= 0), 1, 0)  #how about <="
      ],
      "execution_count": 142,
      "outputs": []
    },
    {
      "cell_type": "code",
      "metadata": {
        "id": "fSoEv0xNMtXk"
      },
      "source": [
        "buying_dates, selling_dates = [],[]"
      ],
      "execution_count": 143,
      "outputs": []
    },
    {
      "cell_type": "code",
      "metadata": {
        "id": "jeE834C5MzcR"
      },
      "source": [
        "for i in range(len(df) - 1):\n",
        "  if df['buy'].iloc[i]: #access the buy data on that row\n",
        "    buying_dates.append(df.iloc[i+1].name)\n",
        "    for num, j in enumerate(df['sell'][i:]):\n",
        "      if j: #1\n",
        "        selling_dates.append(df.iloc[i+num + 1].name) #next row\n",
        "        break\n"
      ],
      "execution_count": 144,
      "outputs": []
    },
    {
      "cell_type": "markdown",
      "metadata": {
        "id": "89zv2hD0N70z"
      },
      "source": [
        "avoid meaningless or multiple position"
      ]
    },
    {
      "cell_type": "code",
      "metadata": {
        "id": "qTrhICZtNQRz"
      },
      "source": [
        "cutit = len(buying_dates) - len(selling_dates)"
      ],
      "execution_count": 145,
      "outputs": []
    },
    {
      "cell_type": "code",
      "metadata": {
        "id": "SVFW5DjBNzNH"
      },
      "source": [
        "if cutit:\n",
        "  buying_dates = buying_dates[:-cutit]"
      ],
      "execution_count": 146,
      "outputs": []
    },
    {
      "cell_type": "code",
      "metadata": {
        "colab": {
          "base_uri": "https://localhost:8080/",
          "height": 331
        },
        "id": "4ETrROk4N2-D",
        "outputId": "8965ade4-84e0-4316-f6f1-5427e19d8588"
      },
      "source": [
        "frame = pd.DataFrame({'buying_dates':buying_dates, 'selling_dates':selling_dates})\n",
        "frame"
      ],
      "execution_count": 147,
      "outputs": [
        {
          "output_type": "execute_result",
          "data": {
            "text/html": [
              "<div>\n",
              "<style scoped>\n",
              "    .dataframe tbody tr th:only-of-type {\n",
              "        vertical-align: middle;\n",
              "    }\n",
              "\n",
              "    .dataframe tbody tr th {\n",
              "        vertical-align: top;\n",
              "    }\n",
              "\n",
              "    .dataframe thead th {\n",
              "        text-align: right;\n",
              "    }\n",
              "</style>\n",
              "<table border=\"1\" class=\"dataframe\">\n",
              "  <thead>\n",
              "    <tr style=\"text-align: right;\">\n",
              "      <th></th>\n",
              "      <th>buying_dates</th>\n",
              "      <th>selling_dates</th>\n",
              "    </tr>\n",
              "  </thead>\n",
              "  <tbody>\n",
              "    <tr>\n",
              "      <th>0</th>\n",
              "      <td>2021-08-28 23:30:00+01:00</td>\n",
              "      <td>2021-08-29 13:00:00+01:00</td>\n",
              "    </tr>\n",
              "    <tr>\n",
              "      <th>1</th>\n",
              "      <td>2021-09-05 09:30:00+01:00</td>\n",
              "      <td>2021-09-09 19:30:00+01:00</td>\n",
              "    </tr>\n",
              "    <tr>\n",
              "      <th>2</th>\n",
              "      <td>2021-09-12 04:30:00+01:00</td>\n",
              "      <td>2021-09-16 11:00:00+01:00</td>\n",
              "    </tr>\n",
              "    <tr>\n",
              "      <th>3</th>\n",
              "      <td>2021-09-12 05:00:00+01:00</td>\n",
              "      <td>2021-09-16 11:00:00+01:00</td>\n",
              "    </tr>\n",
              "    <tr>\n",
              "      <th>4</th>\n",
              "      <td>2021-09-22 15:00:00+01:00</td>\n",
              "      <td>2021-09-25 13:00:00+01:00</td>\n",
              "    </tr>\n",
              "    <tr>\n",
              "      <th>5</th>\n",
              "      <td>2021-10-08 07:00:00+01:00</td>\n",
              "      <td>2021-10-10 02:30:00+01:00</td>\n",
              "    </tr>\n",
              "    <tr>\n",
              "      <th>6</th>\n",
              "      <td>2021-10-11 02:30:00+01:00</td>\n",
              "      <td>2021-10-12 11:00:00+01:00</td>\n",
              "    </tr>\n",
              "    <tr>\n",
              "      <th>7</th>\n",
              "      <td>2021-10-11 03:00:00+01:00</td>\n",
              "      <td>2021-10-12 11:00:00+01:00</td>\n",
              "    </tr>\n",
              "    <tr>\n",
              "      <th>8</th>\n",
              "      <td>2021-10-11 03:30:00+01:00</td>\n",
              "      <td>2021-10-12 11:00:00+01:00</td>\n",
              "    </tr>\n",
              "  </tbody>\n",
              "</table>\n",
              "</div>"
            ],
            "text/plain": [
              "               buying_dates             selling_dates\n",
              "0 2021-08-28 23:30:00+01:00 2021-08-29 13:00:00+01:00\n",
              "1 2021-09-05 09:30:00+01:00 2021-09-09 19:30:00+01:00\n",
              "2 2021-09-12 04:30:00+01:00 2021-09-16 11:00:00+01:00\n",
              "3 2021-09-12 05:00:00+01:00 2021-09-16 11:00:00+01:00\n",
              "4 2021-09-22 15:00:00+01:00 2021-09-25 13:00:00+01:00\n",
              "5 2021-10-08 07:00:00+01:00 2021-10-10 02:30:00+01:00\n",
              "6 2021-10-11 02:30:00+01:00 2021-10-12 11:00:00+01:00\n",
              "7 2021-10-11 03:00:00+01:00 2021-10-12 11:00:00+01:00\n",
              "8 2021-10-11 03:30:00+01:00 2021-10-12 11:00:00+01:00"
            ]
          },
          "metadata": {},
          "execution_count": 147
        }
      ]
    },
    {
      "cell_type": "code",
      "metadata": {
        "id": "Bd4s-4h9OW1I"
      },
      "source": [
        "actuals = frame[frame.buying_dates > frame.selling_dates.shift(1)] #shift allow us to go to the next row"
      ],
      "execution_count": 148,
      "outputs": []
    },
    {
      "cell_type": "code",
      "metadata": {
        "colab": {
          "base_uri": "https://localhost:8080/",
          "height": 206
        },
        "id": "hTQOJBZIOXgQ",
        "outputId": "e861fc29-bc25-4386-82bd-cf58efc291d0"
      },
      "source": [
        "actuals"
      ],
      "execution_count": 149,
      "outputs": [
        {
          "output_type": "execute_result",
          "data": {
            "text/html": [
              "<div>\n",
              "<style scoped>\n",
              "    .dataframe tbody tr th:only-of-type {\n",
              "        vertical-align: middle;\n",
              "    }\n",
              "\n",
              "    .dataframe tbody tr th {\n",
              "        vertical-align: top;\n",
              "    }\n",
              "\n",
              "    .dataframe thead th {\n",
              "        text-align: right;\n",
              "    }\n",
              "</style>\n",
              "<table border=\"1\" class=\"dataframe\">\n",
              "  <thead>\n",
              "    <tr style=\"text-align: right;\">\n",
              "      <th></th>\n",
              "      <th>buying_dates</th>\n",
              "      <th>selling_dates</th>\n",
              "    </tr>\n",
              "  </thead>\n",
              "  <tbody>\n",
              "    <tr>\n",
              "      <th>1</th>\n",
              "      <td>2021-09-05 09:30:00+01:00</td>\n",
              "      <td>2021-09-09 19:30:00+01:00</td>\n",
              "    </tr>\n",
              "    <tr>\n",
              "      <th>2</th>\n",
              "      <td>2021-09-12 04:30:00+01:00</td>\n",
              "      <td>2021-09-16 11:00:00+01:00</td>\n",
              "    </tr>\n",
              "    <tr>\n",
              "      <th>4</th>\n",
              "      <td>2021-09-22 15:00:00+01:00</td>\n",
              "      <td>2021-09-25 13:00:00+01:00</td>\n",
              "    </tr>\n",
              "    <tr>\n",
              "      <th>5</th>\n",
              "      <td>2021-10-08 07:00:00+01:00</td>\n",
              "      <td>2021-10-10 02:30:00+01:00</td>\n",
              "    </tr>\n",
              "    <tr>\n",
              "      <th>6</th>\n",
              "      <td>2021-10-11 02:30:00+01:00</td>\n",
              "      <td>2021-10-12 11:00:00+01:00</td>\n",
              "    </tr>\n",
              "  </tbody>\n",
              "</table>\n",
              "</div>"
            ],
            "text/plain": [
              "               buying_dates             selling_dates\n",
              "1 2021-09-05 09:30:00+01:00 2021-09-09 19:30:00+01:00\n",
              "2 2021-09-12 04:30:00+01:00 2021-09-16 11:00:00+01:00\n",
              "4 2021-09-22 15:00:00+01:00 2021-09-25 13:00:00+01:00\n",
              "5 2021-10-08 07:00:00+01:00 2021-10-10 02:30:00+01:00\n",
              "6 2021-10-11 02:30:00+01:00 2021-10-12 11:00:00+01:00"
            ]
          },
          "metadata": {},
          "execution_count": 149
        }
      ]
    },
    {
      "cell_type": "code",
      "metadata": {
        "id": "FS4vhqBePTKX"
      },
      "source": [
        "def profitcalc():\n",
        "  buyprices = df.loc[actuals.buying_dates]['Open']\n",
        "  sellprices = df.loc[actuals.selling_dates]['Open']\n",
        "  return (sellprices.values - buyprices.values)/buyprices.values"
      ],
      "execution_count": 150,
      "outputs": []
    },
    {
      "cell_type": "code",
      "metadata": {
        "colab": {
          "base_uri": "https://localhost:8080/"
        },
        "id": "NvdPYHokPo0-",
        "outputId": "a1d885fb-75b6-452f-b5e3-0f71a90d677c"
      },
      "source": [
        "profits = profitcalc()\n",
        "profits"
      ],
      "execution_count": 151,
      "outputs": [
        {
          "output_type": "execute_result",
          "data": {
            "text/plain": [
              "array([-0.06567695,  0.0577012 ,  0.00356852,  0.00789607,  0.02537738])"
            ]
          },
          "metadata": {},
          "execution_count": 151
        }
      ]
    },
    {
      "cell_type": "code",
      "metadata": {
        "colab": {
          "base_uri": "https://localhost:8080/"
        },
        "id": "tCP7VgsnPrv8",
        "outputId": "99c6fdbb-17e7-4b58-bf3c-6835bba72813"
      },
      "source": [
        "(profits + 1).prod()\n"
      ],
      "execution_count": 152,
      "outputs": [
        {
          "output_type": "execute_result",
          "data": {
            "text/plain": [
              "1.0249591775117632"
            ]
          },
          "metadata": {},
          "execution_count": 152
        }
      ]
    },
    {
      "cell_type": "markdown",
      "metadata": {
        "id": "N7IclsHEQDC0"
      },
      "source": [
        "LOOKS OK"
      ]
    },
    {
      "cell_type": "code",
      "metadata": {
        "id": "7VIIODQ1QB15"
      },
      "source": [
        "import matplotlib.pyplot as plt\n"
      ],
      "execution_count": 153,
      "outputs": []
    },
    {
      "cell_type": "code",
      "metadata": {
        "colab": {
          "base_uri": "https://localhost:8080/",
          "height": 609
        },
        "id": "4aNqoyvSQJEt",
        "outputId": "b9f0033d-fd4d-48bc-f436-6b7599064770"
      },
      "source": [
        "plt.figure(figsize=(20,10))\n",
        "plt.plot(df.Close, color = 'k', alpha = 0.7)\n",
        "plt.scatter(actuals.buying_dates, df.Open[actuals.buying_dates], marker='^', color= 'g', s=500)\n",
        "plt.scatter(actuals.selling_dates, df.Open[actuals.selling_dates], marker='v', color= 'r', s=500)"
      ],
      "execution_count": 154,
      "outputs": [
        {
          "output_type": "execute_result",
          "data": {
            "text/plain": [
              "<matplotlib.collections.PathCollection at 0x7ff67e88b3d0>"
            ]
          },
          "metadata": {},
          "execution_count": 154
        },
        {
          "output_type": "display_data",
          "data": {
            "image/png": "[encoded data removed]",
            "text/plain": [
              "<Figure size 1440x720 with 1 Axes>"
            ]
          },
          "metadata": {
            "needs_background": "light"
          }
        }
      ]
    },
    {
      "cell_type": "code",
      "metadata": {
        "id": "XwhwKeqIQoJZ"
      },
      "source": [
        ""
      ],
      "execution_count": 154,
      "outputs": []
    }
  ]
}